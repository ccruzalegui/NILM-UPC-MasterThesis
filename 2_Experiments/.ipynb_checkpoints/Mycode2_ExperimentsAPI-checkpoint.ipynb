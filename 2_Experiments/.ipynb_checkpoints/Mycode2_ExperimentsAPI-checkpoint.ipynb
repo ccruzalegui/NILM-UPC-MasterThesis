{
 "cells": [
  {
   "cell_type": "markdown",
   "id": "ca2b87e5",
   "metadata": {},
   "source": [
    "### This notebook was used to test and interact with the ExperimentAPI"
   ]
  },
  {
   "cell_type": "code",
   "execution_count": 2,
   "id": "eea469c4",
   "metadata": {},
   "outputs": [],
   "source": [
    "import nilmtk"
   ]
  },
  {
   "cell_type": "code",
   "execution_count": 11,
   "id": "d3e35420",
   "metadata": {},
   "outputs": [
    {
     "name": "stdout",
     "output_type": "stream",
     "text": [
      "0.4.0.dev1+git.303d45b\n"
     ]
    }
   ],
   "source": [
    "print (nilmtk.__version__)"
   ]
  },
  {
   "cell_type": "markdown",
   "id": "3c852705",
   "metadata": {},
   "source": [
    "Experiment 1"
   ]
  },
  {
   "cell_type": "code",
   "execution_count": 3,
   "id": "c5aaac51",
   "metadata": {},
   "outputs": [],
   "source": [
    "from nilmtk.api import API\n",
    "import warnings\n",
    "warnings.filterwarnings(\"ignore\")"
   ]
  },
  {
   "cell_type": "code",
   "execution_count": 13,
   "id": "c6f4580e",
   "metadata": {},
   "outputs": [],
   "source": [
    "from nilmtk.disaggregate import CO"
   ]
  },
  {
   "cell_type": "code",
   "execution_count": 14,
   "id": "cdaaca57",
   "metadata": {},
   "outputs": [],
   "source": [
    "experiment1 = {\n",
    "  'power': {'mains': ['apparent','active'],'appliance': ['apparent','active']},\n",
    "  'sample_rate': 60,\n",
    "  'appliances': ['television','kettle', 'boiler', 'freezer', 'washing machine'],\n",
    "  'methods': {\"CO\":CO({})},\n",
    "  'train': {    \n",
    "    'datasets': {\n",
    "        'UK-DALE': {\n",
    "            'path': './Dataset/ukdale.h5',\n",
    "            'buildings': {\n",
    "                4: {\n",
    "                    'start_time': '2013-04-01 00:00:00',\n",
    "                    'end_time': '2013-05-01 12:00:00'\n",
    "                    }\n",
    "                }                \n",
    "            }\n",
    "        }\n",
    "    },\n",
    "  'test': {\n",
    "    'datasets': {\n",
    "        'UK-DALE': {\n",
    "            'path': './Dataset/ukdale.h5',\n",
    "            'buildings': {\n",
    "                4: {\n",
    "                    'start_time': '2013-06-02 00:00:00',\n",
    "                    'end_time': '2013-06-02 12:00:00'\n",
    "                    }\n",
    "                }\n",
    "            }\n",
    "        },\n",
    "        'metrics':['rmse']\n",
    "    }\n",
    "}\n",
    "\n",
    "\n",
    "########\n",
    "# Nested architecture\n",
    "\n",
    "# experiment1\n",
    "# ├── power\n",
    "# │   ├── mains\n",
    "# │   │   ├── apparent\n",
    "# │   │   └── active\n",
    "# │   └── appliance\n",
    "# │       ├── apparent\n",
    "# │       └── active\n",
    "# ├── sample_rate\n",
    "# ├── appliances\n",
    "# │   ├── television\n",
    "# │   ├── kettle\n",
    "# │   ├── boiler\n",
    "# │   ├── freezer\n",
    "# │   └── washing machine\n",
    "# ├── methods\n",
    "# │   └── \"CO\": CO({})\n",
    "# ├── train\n",
    "# │   └── datasets\n",
    "# │       └── UK-DALE\n",
    "# │           └── buildings\n",
    "# │               └── 4\n",
    "# │                   ├── path: './Dataset/ukdale.h5'\n",
    "# │                   ├── start_time: '2013-04-01 00:00:00'\n",
    "# │                   └── end_time: '2013-04-01 12:00:00'\n",
    "# └── test\n",
    "#     └── datasets\n",
    "#         └── UK-DALE\n",
    "#             └── buildings\n",
    "#                 └── 4\n",
    "#                     ├── path: './Dataset/ukdale.h5'\n",
    "#                     ├── start_time: '2013-04-02 00:00:00'\n",
    "#                     └── end_time: '2013-04-02 12:00:00'\n",
    "#         └── metrics: ['rmse']\n"
   ]
  },
  {
   "cell_type": "code",
   "execution_count": 15,
   "id": "002ed5e3",
   "metadata": {},
   "outputs": [
    {
     "name": "stdout",
     "output_type": "stream",
     "text": [
      "Joint Testing for all algorithms\n",
      "Loading data for  UK-DALE  dataset\n",
      "Dropping missing values\n",
      "Generating predictions for : CO\n",
      "...............CO disaggregate_chunk running.............\n",
      "............  rmse  ..............ng machine'\n",
      "                         CO\n",
      "television        29.087616\n",
      "kettle            98.063800\n",
      "boiler            70.054558\n",
      "freezer           53.480255\n",
      "washing machine  166.613249\n"
     ]
    }
   ],
   "source": [
    "api_results_experiment_1 = API(experiment1)"
   ]
  },
  {
   "cell_type": "code",
   "execution_count": 16,
   "id": "f5ba3d0d",
   "metadata": {},
   "outputs": [
    {
     "name": "stdout",
     "output_type": "stream",
     "text": [
      "UK-DALE_4_rmse\n",
      "                         CO\n",
      "television        29.087616\n",
      "kettle            98.063800\n",
      "boiler            70.054558\n",
      "freezer           53.480255\n",
      "washing machine  166.613249\n",
      "\n",
      "\n",
      "\n"
     ]
    }
   ],
   "source": [
    "errors_keys = api_results_experiment_1.errors_keys\n",
    "errors = api_results_experiment_1.errors\n",
    "for i in range(len(errors)):\n",
    "    print (errors_keys[i])\n",
    "    print (errors[i])\n",
    "    print (\"\\n\\n\")\n",
    "    \n",
    "# The first line extracts the error keys from the api_results_experiment_1 object, which is \n",
    "# the dictionary of results obtained from running the experiment. These error keys \n",
    "# are stored in the errors_keys variable.\n",
    "\n",
    "# The second line extracts the error values from the api_results_experiment_1 object \n",
    "# and stores them in the errors variable.\n",
    "\n",
    "# The for loop then iterates over the length of the errors list, and for each \n",
    "# item in the list, it prints out the corresponding error key from the errors_keys \n",
    "# list, followed by the error value from the errors list. The \"\\n\\n\" at the end \n",
    "# of the print statement creates a blank line between each error metric, making the output easier to read."
   ]
  },
  {
   "cell_type": "markdown",
   "id": "18c16827",
   "metadata": {},
   "source": [
    "Experiment 2"
   ]
  },
  {
   "cell_type": "code",
   "execution_count": 17,
   "id": "9167d736",
   "metadata": {},
   "outputs": [],
   "source": [
    "from nilmtk.disaggregate import Mean"
   ]
  },
  {
   "cell_type": "code",
   "execution_count": 18,
   "id": "17d2cc76",
   "metadata": {},
   "outputs": [],
   "source": [
    "experiment2 = {\n",
    "  'power': {'mains': ['apparent','active'],'appliance': ['apparent','active']},\n",
    "  'sample_rate': 60,\n",
    "  'appliances': ['television','kettle', 'boiler', 'freezer', 'washing machine'],\n",
    "  'methods': {\"Mean\":Mean({}),\"CO\":CO({})},\n",
    "  'train': {    \n",
    "    'datasets': {\n",
    "        'UK-DALE': {\n",
    "            'path': './Dataset/ukdale.h5',\n",
    "            'buildings': {\n",
    "                4: {\n",
    "                    'start_time': '2013-04-01 00:00:00',\n",
    "                    'end_time': '2013-05-01 12:00:00'\n",
    "                    }\n",
    "                }                \n",
    "            }\n",
    "        }\n",
    "    },\n",
    "  'test': {\n",
    "    'datasets': {\n",
    "        'UK-DALE': {\n",
    "            'path': './Dataset/ukdale.h5',\n",
    "            'buildings': {\n",
    "                4: {\n",
    "                    'start_time': '2013-06-02 00:00:00',\n",
    "                    'end_time': '2013-06-02 12:00:00'\n",
    "                    }\n",
    "                }\n",
    "            }\n",
    "        },\n",
    "        'metrics':['mae','rmse']\n",
    "    }\n",
    "}"
   ]
  },
  {
   "cell_type": "code",
   "execution_count": 19,
   "id": "30022690",
   "metadata": {},
   "outputs": [
    {
     "name": "stdout",
     "output_type": "stream",
     "text": [
      "Joint Testing for all algorithms\n",
      "Loading data for  UK-DALE  dataset\n",
      "Dropping missing values\n",
      "Generating predictions for : Mean\n",
      "Generating predictions for : CO\n",
      "...............CO disaggregate_chunk running.............\n",
      "............  mae  ..............ing machine'\n",
      "                      Mean         CO\n",
      "television        2.056593  22.130865\n",
      "kettle           30.698158   9.479366\n",
      "boiler           31.710171  60.676617\n",
      "freezer          41.148262  44.597328\n",
      "washing machine  27.559483  97.507507\n",
      "............  rmse  ..............\n",
      "                       Mean          CO\n",
      "television         2.060159   28.355848\n",
      "kettle           186.715860   98.063800\n",
      "boiler            33.311366   72.254312\n",
      "freezer           43.597270   55.401570\n",
      "washing machine   80.535982  167.165302\n"
     ]
    }
   ],
   "source": [
    "api_results_experiment_2 = API(experiment2)"
   ]
  },
  {
   "cell_type": "code",
   "execution_count": 20,
   "id": "1a340c16",
   "metadata": {},
   "outputs": [
    {
     "data": {
      "text/plain": [
       "[                      Mean         CO\n",
       " television        2.056593  22.130865\n",
       " kettle           30.698158   9.479366\n",
       " boiler           31.710171  60.676617\n",
       " freezer          41.148262  44.597328\n",
       " washing machine  27.559483  97.507507,\n",
       "                        Mean          CO\n",
       " television         2.060159   28.355848\n",
       " kettle           186.715860   98.063800\n",
       " boiler            33.311366   72.254312\n",
       " freezer           43.597270   55.401570\n",
       " washing machine   80.535982  167.165302]"
      ]
     },
     "execution_count": 20,
     "metadata": {},
     "output_type": "execute_result"
    }
   ],
   "source": [
    "api_results_experiment_2.errors"
   ]
  },
  {
   "cell_type": "code",
   "execution_count": 21,
   "id": "1be36f70",
   "metadata": {},
   "outputs": [
    {
     "name": "stdout",
     "output_type": "stream",
     "text": [
      "UK-DALE_4_mae\n",
      "                      Mean         CO\n",
      "television        2.056593  22.130865\n",
      "kettle           30.698158   9.479366\n",
      "boiler           31.710171  60.676617\n",
      "freezer          41.148262  44.597328\n",
      "washing machine  27.559483  97.507507\n",
      "\n",
      "\n",
      "\n",
      "UK-DALE_4_rmse\n",
      "                       Mean          CO\n",
      "television         2.060159   28.355848\n",
      "kettle           186.715860   98.063800\n",
      "boiler            33.311366   72.254312\n",
      "freezer           43.597270   55.401570\n",
      "washing machine   80.535982  167.165302\n",
      "\n",
      "\n",
      "\n"
     ]
    }
   ],
   "source": [
    "errors_keys = api_results_experiment_2.errors_keys\n",
    "errors = api_results_experiment_2.errors\n",
    "for i in range(len(errors)):\n",
    "    print (errors_keys[i])\n",
    "    print (errors[i])\n",
    "    print (\"\\n\\n\")"
   ]
  },
  {
   "cell_type": "markdown",
   "id": "9293a363",
   "metadata": {},
   "source": [
    "Experiment 3"
   ]
  },
  {
   "cell_type": "code",
   "execution_count": 24,
   "id": "7300b89a",
   "metadata": {},
   "outputs": [
    {
     "name": "stdout",
     "output_type": "stream",
     "text": [
      "['CO', 'Disaggregator', 'FHMMExact', 'Hart85', 'Mean', '__builtins__', '__cached__', '__doc__', '__file__', '__loader__', '__name__', '__package__', '__path__', '__spec__', 'combinatorial_optimisation', 'disaggregator', 'fhmm_exact', 'hart_85', 'mean']\n"
     ]
    }
   ],
   "source": [
    "import nilmtk.disaggregate\n",
    "print(dir(nilmtk.disaggregate))\n",
    "\n",
    "###\n",
    "#This lines allows to know which algorithms are available in the nilmtk.disaggregate module"
   ]
  },
  {
   "cell_type": "code",
   "execution_count": 25,
   "id": "de9d2854",
   "metadata": {},
   "outputs": [],
   "source": [
    "from nilmtk.disaggregate import FHMMExact, Hart85"
   ]
  },
  {
   "cell_type": "code",
   "execution_count": 29,
   "id": "f514e201",
   "metadata": {},
   "outputs": [],
   "source": [
    "experiment3 = {\n",
    "  'power': {'mains': ['apparent','active'],'appliance': ['apparent','active']},\n",
    "  'sample_rate': 60,\n",
    "  'appliances': ['television','kettle', 'boiler', 'freezer', 'washing machine'],\n",
    "  'artificial_aggregate': True,\n",
    "  'chunksize': 20000,\n",
    "  'DROP_ALL_NANS': True,\n",
    "  'methods': {\"Mean\":Mean({}),\"Hart85\":Hart85({}), \"FHMM_EXACT\":FHMMExact({'num_of_states':2}), \"CO\":CO({})},\n",
    "  'train': {    \n",
    "    'datasets': {\n",
    "      'UK-DALE': {\n",
    "        'path': './Dataset/ukdale.h5',\n",
    "        'buildings': {\n",
    "                4: {\n",
    "                    'start_time': '2013-04-01 00:00:00',\n",
    "                    'end_time': '2013-05-01 12:00:00'\n",
    "                    }\n",
    "                }                \n",
    "            }\n",
    "        }\n",
    "    },\n",
    "  'test': {\n",
    "    'datasets': {\n",
    "        'UK-DALE': {\n",
    "            'path': './Dataset/ukdale.h5',\n",
    "            'buildings': {\n",
    "                4: {\n",
    "                    'start_time': '2013-06-02 00:00:00',\n",
    "                    'end_time': '2013-06-02 12:00:00'\n",
    "                    }\n",
    "                }\n",
    "            }\n",
    "        },\n",
    "        'metrics':['mae','rmse']\n",
    "    }\n",
    "}"
   ]
  },
  {
   "cell_type": "code",
   "execution_count": 30,
   "id": "3a298340",
   "metadata": {},
   "outputs": [
    {
     "name": "stdout",
     "output_type": "stream",
     "text": [
      "Joint Testing for all algorithms\n",
      "Loading data for  UK-DALE  dataset\n",
      "Dropping missing values\n",
      "Creating an Artificial Aggregate\n",
      "Generating predictions for : Mean\n",
      "Generating predictions for : Hart85\n",
      "Finding Edges, please wait ...\n",
      "Edge detection complete.\n",
      "Creating transition frame ...\n",
      "Transition frame created.\n",
      "Creating states frame ...\n",
      "States frame created.\n",
      "Finished.\n",
      "Generating predictions for : FHMM\n",
      "Generating predictions for : CO\n",
      "...............CO disaggregate_chunk running.............\n",
      "............  mae  ..............ing machine'\n",
      "                      Mean     Hart85  FHMM_EXACT         CO\n",
      "television        2.056593  15.013271    1.124506   1.991111\n",
      "kettle           30.698158  20.277979   10.648256   9.479366\n",
      "boiler           31.710171  17.196096   16.067917  25.417019\n",
      "freezer          41.148262   4.380324   16.389027  19.335480\n",
      "washing machine  27.559483  10.565572   10.748072  18.816404\n",
      "............  rmse  ..............\n",
      "                       Mean      Hart85  FHMM_EXACT          CO\n",
      "television         2.060159   15.013761    5.601351    8.819605\n",
      "kettle           186.715860  187.646349   89.383744   98.063800\n",
      "boiler            33.311366   32.220176   38.283783   42.968128\n",
      "freezer           43.597270   16.737240   37.960332   40.339656\n",
      "washing machine   80.535982   80.899997   74.470710  113.640822\n"
     ]
    }
   ],
   "source": [
    "api_results_experiment_3 = API(experiment3)"
   ]
  },
  {
   "cell_type": "code",
   "execution_count": 31,
   "id": "fbaff2e1",
   "metadata": {},
   "outputs": [
    {
     "name": "stdout",
     "output_type": "stream",
     "text": [
      "UK-DALE_4_mae\n",
      "                      Mean     Hart85  FHMM_EXACT         CO\n",
      "television        2.056593  15.013271    1.124506   1.991111\n",
      "kettle           30.698158  20.277979   10.648256   9.479366\n",
      "boiler           31.710171  17.196096   16.067917  25.417019\n",
      "freezer          41.148262   4.380324   16.389027  19.335480\n",
      "washing machine  27.559483  10.565572   10.748072  18.816404\n",
      "\n",
      "\n",
      "\n",
      "UK-DALE_4_rmse\n",
      "                       Mean      Hart85  FHMM_EXACT          CO\n",
      "television         2.060159   15.013761    5.601351    8.819605\n",
      "kettle           186.715860  187.646349   89.383744   98.063800\n",
      "boiler            33.311366   32.220176   38.283783   42.968128\n",
      "freezer           43.597270   16.737240   37.960332   40.339656\n",
      "washing machine   80.535982   80.899997   74.470710  113.640822\n",
      "\n",
      "\n",
      "\n"
     ]
    }
   ],
   "source": [
    "errors_keys = api_results_experiment_3.errors_keys\n",
    "errors = api_results_experiment_3.errors\n",
    "for i in range(len(errors)):\n",
    "    print (errors_keys[i])\n",
    "    print (errors[i])\n",
    "    print (\"\\n\\n\")"
   ]
  },
  {
   "cell_type": "code",
   "execution_count": 4,
   "id": "08c1c2dd",
   "metadata": {},
   "outputs": [
    {
     "name": "stdout",
     "output_type": "stream",
     "text": [
      "['API', 'DataSet', 'MeterGroup', '__builtins__', '__cached__', '__doc__', '__file__', '__loader__', '__name__', '__package__', '__spec__', 'clear_output', 'datetime', 'f1_score', 'f1score', 'mae', 'mean_absolute_error', 'mean_squared_error', 'nde', 'nep', 'np', 'pd', 'plt', 'r2_score', 'r2score', 'relative_error', 'rmse']\n"
     ]
    }
   ],
   "source": [
    "print(dir(nilmtk.api))"
   ]
  },
  {
   "cell_type": "markdown",
   "id": "f5c126e1",
   "metadata": {},
   "source": [
    "#Important note\n",
    "\n",
    "In this API, is possible to run experiments across datasets, which was previously not possible. The important thing to pay attention to is that such datasets can only be trained and tested together as long as they have common appliances in homes with common ac_types."
   ]
  }
 ],
 "metadata": {
  "kernelspec": {
   "display_name": "Python 3 (ipykernel)",
   "language": "python",
   "name": "python3"
  },
  "language_info": {
   "codemirror_mode": {
    "name": "ipython",
    "version": 3
   },
   "file_extension": ".py",
   "mimetype": "text/x-python",
   "name": "python",
   "nbconvert_exporter": "python",
   "pygments_lexer": "ipython3",
   "version": "3.8.16"
  }
 },
 "nbformat": 4,
 "nbformat_minor": 5
}
