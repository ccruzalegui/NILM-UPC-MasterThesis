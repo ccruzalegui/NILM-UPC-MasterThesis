{
 "cells": [
  {
   "cell_type": "code",
   "execution_count": 1,
   "id": "1b7d60a5",
   "metadata": {
    "scrolled": true
   },
   "outputs": [
    {
     "name": "stdout",
     "output_type": "stream",
     "text": [
      "Requirement already satisfied: tensorflow in c:\\users\\cmcru\\anaconda3\\envs\\nilm\\lib\\site-packages (2.11.0)\n",
      "Requirement already satisfied: tensorflow-intel==2.11.0 in c:\\users\\cmcru\\anaconda3\\envs\\nilm\\lib\\site-packages (from tensorflow) (2.11.0)\n",
      "Requirement already satisfied: absl-py>=1.0.0 in c:\\users\\cmcru\\anaconda3\\envs\\nilm\\lib\\site-packages (from tensorflow-intel==2.11.0->tensorflow) (1.4.0)\n",
      "Requirement already satisfied: flatbuffers>=2.0 in c:\\users\\cmcru\\anaconda3\\envs\\nilm\\lib\\site-packages (from tensorflow-intel==2.11.0->tensorflow) (23.3.3)\n",
      "Requirement already satisfied: tensorboard<2.12,>=2.11 in c:\\users\\cmcru\\anaconda3\\envs\\nilm\\lib\\site-packages (from tensorflow-intel==2.11.0->tensorflow) (2.11.2)\n",
      "Requirement already satisfied: tensorflow-estimator<2.12,>=2.11.0 in c:\\users\\cmcru\\anaconda3\\envs\\nilm\\lib\\site-packages (from tensorflow-intel==2.11.0->tensorflow) (2.11.0)\n",
      "Requirement already satisfied: wrapt>=1.11.0 in c:\\users\\cmcru\\anaconda3\\envs\\nilm\\lib\\site-packages (from tensorflow-intel==2.11.0->tensorflow) (1.15.0)\n",
      "Requirement already satisfied: termcolor>=1.1.0 in c:\\users\\cmcru\\anaconda3\\envs\\nilm\\lib\\site-packages (from tensorflow-intel==2.11.0->tensorflow) (2.2.0)\n",
      "Requirement already satisfied: libclang>=13.0.0 in c:\\users\\cmcru\\anaconda3\\envs\\nilm\\lib\\site-packages (from tensorflow-intel==2.11.0->tensorflow) (16.0.0)\n",
      "Requirement already satisfied: keras<2.12,>=2.11.0 in c:\\users\\cmcru\\anaconda3\\envs\\nilm\\lib\\site-packages (from tensorflow-intel==2.11.0->tensorflow) (2.11.0)\n",
      "Requirement already satisfied: tensorflow-io-gcs-filesystem>=0.23.1 in c:\\users\\cmcru\\anaconda3\\envs\\nilm\\lib\\site-packages (from tensorflow-intel==2.11.0->tensorflow) (0.31.0)\n",
      "Requirement already satisfied: setuptools in c:\\users\\cmcru\\anaconda3\\envs\\nilm\\lib\\site-packages (from tensorflow-intel==2.11.0->tensorflow) (59.8.0)\n",
      "Requirement already satisfied: gast<=0.4.0,>=0.2.1 in c:\\users\\cmcru\\anaconda3\\envs\\nilm\\lib\\site-packages (from tensorflow-intel==2.11.0->tensorflow) (0.4.0)\n",
      "Requirement already satisfied: opt-einsum>=2.3.2 in c:\\users\\cmcru\\anaconda3\\envs\\nilm\\lib\\site-packages (from tensorflow-intel==2.11.0->tensorflow) (3.3.0)\n",
      "Requirement already satisfied: grpcio<2.0,>=1.24.3 in c:\\users\\cmcru\\anaconda3\\envs\\nilm\\lib\\site-packages (from tensorflow-intel==2.11.0->tensorflow) (1.53.0)\n",
      "Requirement already satisfied: six>=1.12.0 in c:\\users\\cmcru\\anaconda3\\envs\\nilm\\lib\\site-packages (from tensorflow-intel==2.11.0->tensorflow) (1.16.0)\n",
      "Requirement already satisfied: packaging in c:\\users\\cmcru\\anaconda3\\envs\\nilm\\lib\\site-packages (from tensorflow-intel==2.11.0->tensorflow) (23.0)\n",
      "Requirement already satisfied: numpy>=1.20 in c:\\users\\cmcru\\anaconda3\\envs\\nilm\\lib\\site-packages (from tensorflow-intel==2.11.0->tensorflow) (1.21.6)\n",
      "Requirement already satisfied: google-pasta>=0.1.1 in c:\\users\\cmcru\\anaconda3\\envs\\nilm\\lib\\site-packages (from tensorflow-intel==2.11.0->tensorflow) (0.2.0)\n",
      "Requirement already satisfied: protobuf<3.20,>=3.9.2 in c:\\users\\cmcru\\anaconda3\\envs\\nilm\\lib\\site-packages (from tensorflow-intel==2.11.0->tensorflow) (3.19.6)\n",
      "Requirement already satisfied: typing-extensions>=3.6.6 in c:\\users\\cmcru\\anaconda3\\envs\\nilm\\lib\\site-packages (from tensorflow-intel==2.11.0->tensorflow) (4.5.0)\n",
      "Requirement already satisfied: h5py>=2.9.0 in c:\\users\\cmcru\\anaconda3\\envs\\nilm\\lib\\site-packages (from tensorflow-intel==2.11.0->tensorflow) (3.8.0)\n",
      "Requirement already satisfied: astunparse>=1.6.0 in c:\\users\\cmcru\\anaconda3\\envs\\nilm\\lib\\site-packages (from tensorflow-intel==2.11.0->tensorflow) (1.6.3)\n",
      "Requirement already satisfied: wheel<1.0,>=0.23.0 in c:\\users\\cmcru\\anaconda3\\envs\\nilm\\lib\\site-packages (from astunparse>=1.6.0->tensorflow-intel==2.11.0->tensorflow) (0.40.0)\n",
      "Requirement already satisfied: markdown>=2.6.8 in c:\\users\\cmcru\\anaconda3\\envs\\nilm\\lib\\site-packages (from tensorboard<2.12,>=2.11->tensorflow-intel==2.11.0->tensorflow) (3.4.3)\n",
      "Requirement already satisfied: requests<3,>=2.21.0 in c:\\users\\cmcru\\anaconda3\\envs\\nilm\\lib\\site-packages (from tensorboard<2.12,>=2.11->tensorflow-intel==2.11.0->tensorflow) (2.28.2)\n",
      "Requirement already satisfied: werkzeug>=1.0.1 in c:\\users\\cmcru\\anaconda3\\envs\\nilm\\lib\\site-packages (from tensorboard<2.12,>=2.11->tensorflow-intel==2.11.0->tensorflow) (2.2.3)\n",
      "Requirement already satisfied: google-auth<3,>=1.6.3 in c:\\users\\cmcru\\anaconda3\\envs\\nilm\\lib\\site-packages (from tensorboard<2.12,>=2.11->tensorflow-intel==2.11.0->tensorflow) (2.17.0)\n",
      "Requirement already satisfied: google-auth-oauthlib<0.5,>=0.4.1 in c:\\users\\cmcru\\anaconda3\\envs\\nilm\\lib\\site-packages (from tensorboard<2.12,>=2.11->tensorflow-intel==2.11.0->tensorflow) (0.4.6)\n",
      "Requirement already satisfied: tensorboard-plugin-wit>=1.6.0 in c:\\users\\cmcru\\anaconda3\\envs\\nilm\\lib\\site-packages (from tensorboard<2.12,>=2.11->tensorflow-intel==2.11.0->tensorflow) (1.8.1)\n",
      "Requirement already satisfied: tensorboard-data-server<0.7.0,>=0.6.0 in c:\\users\\cmcru\\anaconda3\\envs\\nilm\\lib\\site-packages (from tensorboard<2.12,>=2.11->tensorflow-intel==2.11.0->tensorflow) (0.6.1)\n",
      "Requirement already satisfied: pyasn1-modules>=0.2.1 in c:\\users\\cmcru\\anaconda3\\envs\\nilm\\lib\\site-packages (from google-auth<3,>=1.6.3->tensorboard<2.12,>=2.11->tensorflow-intel==2.11.0->tensorflow) (0.2.8)\n",
      "Requirement already satisfied: cachetools<6.0,>=2.0.0 in c:\\users\\cmcru\\anaconda3\\envs\\nilm\\lib\\site-packages (from google-auth<3,>=1.6.3->tensorboard<2.12,>=2.11->tensorflow-intel==2.11.0->tensorflow) (5.3.0)\n",
      "Requirement already satisfied: rsa<5,>=3.1.4 in c:\\users\\cmcru\\anaconda3\\envs\\nilm\\lib\\site-packages (from google-auth<3,>=1.6.3->tensorboard<2.12,>=2.11->tensorflow-intel==2.11.0->tensorflow) (4.9)\n",
      "Requirement already satisfied: requests-oauthlib>=0.7.0 in c:\\users\\cmcru\\anaconda3\\envs\\nilm\\lib\\site-packages (from google-auth-oauthlib<0.5,>=0.4.1->tensorboard<2.12,>=2.11->tensorflow-intel==2.11.0->tensorflow) (1.3.1)\n",
      "Requirement already satisfied: importlib-metadata>=4.4 in c:\\users\\cmcru\\anaconda3\\envs\\nilm\\lib\\site-packages (from markdown>=2.6.8->tensorboard<2.12,>=2.11->tensorflow-intel==2.11.0->tensorflow) (4.11.4)\n",
      "Requirement already satisfied: urllib3<1.27,>=1.21.1 in c:\\users\\cmcru\\anaconda3\\envs\\nilm\\lib\\site-packages (from requests<3,>=2.21.0->tensorboard<2.12,>=2.11->tensorflow-intel==2.11.0->tensorflow) (1.26.15)\n",
      "Requirement already satisfied: idna<4,>=2.5 in c:\\users\\cmcru\\anaconda3\\envs\\nilm\\lib\\site-packages (from requests<3,>=2.21.0->tensorboard<2.12,>=2.11->tensorflow-intel==2.11.0->tensorflow) (3.4)\n",
      "Requirement already satisfied: certifi>=2017.4.17 in c:\\users\\cmcru\\anaconda3\\envs\\nilm\\lib\\site-packages (from requests<3,>=2.21.0->tensorboard<2.12,>=2.11->tensorflow-intel==2.11.0->tensorflow) (2022.12.7)\n",
      "Requirement already satisfied: charset-normalizer<4,>=2 in c:\\users\\cmcru\\anaconda3\\envs\\nilm\\lib\\site-packages (from requests<3,>=2.21.0->tensorboard<2.12,>=2.11->tensorflow-intel==2.11.0->tensorflow) (2.1.1)\n",
      "Requirement already satisfied: MarkupSafe>=2.1.1 in c:\\users\\cmcru\\anaconda3\\envs\\nilm\\lib\\site-packages (from werkzeug>=1.0.1->tensorboard<2.12,>=2.11->tensorflow-intel==2.11.0->tensorflow) (2.1.1)\n",
      "Requirement already satisfied: zipp>=0.5 in c:\\users\\cmcru\\anaconda3\\envs\\nilm\\lib\\site-packages (from importlib-metadata>=4.4->markdown>=2.6.8->tensorboard<2.12,>=2.11->tensorflow-intel==2.11.0->tensorflow) (3.15.0)\n",
      "Requirement already satisfied: pyasn1<0.5.0,>=0.4.6 in c:\\users\\cmcru\\anaconda3\\envs\\nilm\\lib\\site-packages (from pyasn1-modules>=0.2.1->google-auth<3,>=1.6.3->tensorboard<2.12,>=2.11->tensorflow-intel==2.11.0->tensorflow) (0.4.8)\n",
      "Requirement already satisfied: oauthlib>=3.0.0 in c:\\users\\cmcru\\anaconda3\\envs\\nilm\\lib\\site-packages (from requests-oauthlib>=0.7.0->google-auth-oauthlib<0.5,>=0.4.1->tensorboard<2.12,>=2.11->tensorflow-intel==2.11.0->tensorflow) (3.2.2)\n",
      "Note: you may need to restart the kernel to use updated packages.\n"
     ]
    }
   ],
   "source": [
    "pip install tensorflow\n"
   ]
  },
  {
   "cell_type": "code",
   "execution_count": 3,
   "id": "9383424e",
   "metadata": {},
   "outputs": [],
   "source": [
    "import warnings\n",
    "warnings.filterwarnings(\"ignore\")\n",
    "from nilmtk.api import API\n",
    "from nilmtk.disaggregate import Mean"
   ]
  },
  {
   "cell_type": "code",
   "execution_count": 4,
   "id": "5ab215be",
   "metadata": {},
   "outputs": [],
   "source": [
    "from nilmtk_contrib.disaggregate import DAE,Seq2Point, Seq2Seq, RNN, WindowGRU"
   ]
  },
  {
   "cell_type": "code",
   "execution_count": 9,
   "id": "0c42365c",
   "metadata": {},
   "outputs": [],
   "source": [
    "ukdale = {\n",
    "  'power': {\n",
    "    'mains': ['apparent','active'],\n",
    "    'appliance': ['apparent','active']\n",
    "  },\n",
    "  'sample_rate': 60,\n",
    "\n",
    "  'appliances': ['television','kettle', 'boiler', 'freezer', 'washing machine'],\n",
    "  'methods': {\n",
    "    \n",
    "      'WindowGRU':WindowGRU({'n_epochs':1,'batch_size':32}),\n",
    "      'RNN':RNN({'n_epochs':1,'batch_size':32}),\n",
    "      'DAE':DAE({'n_epochs':1,'batch_size':32}),\n",
    "      'Seq2Point':Seq2Point({'n_epochs':1,'batch_size':32}),\n",
    "      'Seq2Seq':Seq2Seq({'n_epochs':1,'batch_size':32}),\n",
    "\n",
    "      'Mean': Mean({}),\n",
    "          \n",
    "  },\n",
    "   'train': {    \n",
    "    'datasets': {\n",
    "            'UK-DALE': {\n",
    "                'path': './Dataset/ukdale.h5',\n",
    "                'buildings': {\n",
    "                4: {\n",
    "                    'start_time': '2013-04-01 00:00:00',\n",
    "                    'end_time': '2013-04-02 12:00:00'\n",
    "                },\n",
    "#                 56: {\n",
    "#             'start_time': '2015-01-28',\n",
    "#             'end_time': '2015-01-30'\n",
    "#           },\n",
    "            }\n",
    "                                \n",
    "            }\n",
    "            }\n",
    "    },\n",
    "    'test': {\n",
    "    'datasets': {\n",
    "        'UK-DALE': {\n",
    "            'path': './Dataset/ukdale.h5',\n",
    "            'buildings': {\n",
    "                4: {\n",
    "                    'start_time': '2013-06-02 00:00:00',\n",
    "                    'end_time': '2013-06-02 12:00:00'\n",
    "                },\n",
    "            }\n",
    "        }\n",
    "},\n",
    "        'metrics':['mae', 'rmse']\n",
    "}\n",
    "}"
   ]
  },
  {
   "cell_type": "code",
   "execution_count": 10,
   "id": "e1448556",
   "metadata": {
    "scrolled": false
   },
   "outputs": [
    {
     "name": "stdout",
     "output_type": "stream",
     "text": [
      "Joint Testing for all algorithms\n",
      "Loading data for  UK-DALE  dataset\n",
      "Dropping missing values\n",
      "Generating predictions for : WindowGRU\n",
      "23/23 [==============================] - 4s 106ms/step\n",
      "23/23 [==============================] - 4s 115ms/step\n",
      "23/23 [==============================] - 4s 121ms/step\n",
      "23/23 [==============================] - 4s 117ms/step\n",
      "23/23 [==============================] - 4s 114ms/step\n",
      "Generating predictions for : RNN\n",
      "23/23 [==============================] - 6s 133ms/step\n",
      "23/23 [==============================] - 5s 115ms/step\n",
      "23/23 [==============================] - 5s 120ms/step\n",
      "23/23 [==============================] - 5s 116ms/step\n",
      "23/23 [==============================] - 5s 110ms/step\n",
      "Generating predictions for : DAE\n",
      "1/1 [==============================] - 0s 204ms/step\n",
      "1/1 [==============================] - 0s 157ms/step\n",
      "1/1 [==============================] - 0s 172ms/step\n",
      "WARNING:tensorflow:5 out of the last 27 calls to <function Model.make_predict_function.<locals>.predict_function at 0x000001AD5C16FEE8> triggered tf.function retracing. Tracing is expensive and the excessive number of tracings could be due to (1) creating @tf.function repeatedly in a loop, (2) passing tensors with different shapes, (3) passing Python objects instead of tensors. For (1), please define your @tf.function outside of the loop. For (2), @tf.function has reduce_retracing=True option that can avoid unnecessary retracing. For (3), please refer to https://www.tensorflow.org/guide/function#controlling_retracing and https://www.tensorflow.org/api_docs/python/tf/function for  more details.\n",
      "1/1 [==============================] - 0s 165ms/step\n",
      "WARNING:tensorflow:6 out of the last 28 calls to <function Model.make_predict_function.<locals>.predict_function at 0x000001AD5C1E0168> triggered tf.function retracing. Tracing is expensive and the excessive number of tracings could be due to (1) creating @tf.function repeatedly in a loop, (2) passing tensors with different shapes, (3) passing Python objects instead of tensors. For (1), please define your @tf.function outside of the loop. For (2), @tf.function has reduce_retracing=True option that can avoid unnecessary retracing. For (3), please refer to https://www.tensorflow.org/guide/function#controlling_retracing and https://www.tensorflow.org/api_docs/python/tf/function for  more details.\n",
      "1/1 [==============================] - 0s 170ms/step\n",
      "Generating predictions for : Seq2Point\n",
      "23/23 [==============================] - 1s 17ms/step\n",
      "23/23 [==============================] - 1s 20ms/step\n",
      "23/23 [==============================] - 1s 18ms/step\n",
      "23/23 [==============================] - 1s 17ms/step\n",
      "23/23 [==============================] - 1s 24ms/step\n",
      "Generating predictions for : Seq2Seq\n",
      "20/20 [==============================] - 0s 8ms/step\n",
      "20/20 [==============================] - 0s 6ms/step\n",
      "20/20 [==============================] - 0s 7ms/step\n",
      "20/20 [==============================] - 0s 8ms/step\n",
      "20/20 [==============================] - 0s 8ms/step\n",
      "Generating predictions for : Mean\n",
      "............  mae  ..............\n",
      "                 WindowGRU        RNN        DAE  Seq2Point    Seq2Seq  \\\n",
      "television        0.542368   5.982303   3.512728   0.984728   1.282803   \n",
      "kettle           22.559109  37.865284  38.071274  27.104570  34.309128   \n",
      "boiler           23.315237  35.301853  48.197922  31.375820  32.693588   \n",
      "freezer          37.986946  38.890797  40.012119  35.251545  35.393085   \n",
      "washing machine  14.740925  10.565572  16.754229  35.046524  18.261990   \n",
      "\n",
      "                      Mean  \n",
      "television        3.414903  \n",
      "kettle           39.048897  \n",
      "boiler           40.045395  \n",
      "freezer          40.041245  \n",
      "washing machine  39.253231  \n",
      "............  rmse  ..............\n",
      "                  WindowGRU         RNN         DAE   Seq2Point     Seq2Seq  \\\n",
      "television         0.937231    6.002300    3.515084    1.061536    1.584130   \n",
      "kettle           183.873215  186.056789  186.538357  186.448939  185.246879   \n",
      "boiler            28.724206   36.051350   48.581708   33.067595   34.172732   \n",
      "freezer           45.567389   45.083903   44.287110   47.211232   43.230296   \n",
      "washing machine   78.984933   80.899997   81.438819   81.279277   79.692469   \n",
      "\n",
      "                       Mean  \n",
      "television         3.417052  \n",
      "kettle           186.548639  \n",
      "boiler            40.272014  \n",
      "freezer           44.250930  \n",
      "washing machine   82.553957  \n"
     ]
    }
   ],
   "source": [
    "api_res = API(ukdale)"
   ]
  },
  {
   "cell_type": "code",
   "execution_count": 17,
   "id": "5571c350",
   "metadata": {},
   "outputs": [
    {
     "name": "stdout",
     "output_type": "stream",
     "text": [
      "['__builtins__', '__cached__', '__doc__', '__file__', '__loader__', '__name__', '__package__', '__path__', '__spec__', '__version__', 'disaggregate', 'version']\n"
     ]
    }
   ],
   "source": [
    "import nilmtk_contrib\n",
    "print(dir(nilmtk_contrib))\n",
    "\n",
    "\n",
    "\n"
   ]
  },
  {
   "cell_type": "code",
   "execution_count": 20,
   "id": "e709f3a4",
   "metadata": {},
   "outputs": [
    {
     "name": "stdout",
     "output_type": "stream",
     "text": [
      "['DROP_ALL_NANS', '__class__', '__delattr__', '__dict__', '__dir__', '__doc__', '__eq__', '__format__', '__ge__', '__getattribute__', '__gt__', '__hash__', '__init__', '__init_subclass__', '__le__', '__lt__', '__module__', '__ne__', '__new__', '__reduce__', '__reduce_ex__', '__repr__', '__setattr__', '__sizeof__', '__str__', '__subclasshook__', '__weakref__', 'appliances', 'artificial_aggregate', 'call_predict', 'chunk_size', 'classifiers', 'compute_loss', 'display_predictions', 'dropna', 'errors', 'errors_keys', 'experiment', 'gt_overall', 'methods', 'metrics', 'power', 'pred_overall', 'predict', 'sample_period', 'site_only', 'store_classifier_instances', 'storing_key', 'test_chunk_wise', 'test_datasets_dict', 'test_jointly', 'test_mains', 'test_submeters', 'train_chunk_wise', 'train_datasets_dict', 'train_jointly', 'train_mains', 'train_submeters']\n"
     ]
    }
   ],
   "source": [
    "print(dir(api_res))\n",
    "\n",
    "\n"
   ]
  },
  {
   "cell_type": "code",
   "execution_count": 22,
   "id": "c97adc39",
   "metadata": {},
   "outputs": [
    {
     "data": {
      "text/plain": [
       "[                 WindowGRU        RNN        DAE  Seq2Point    Seq2Seq  \\\n",
       " television        0.542368   5.982303   3.512728   0.984728   1.282803   \n",
       " kettle           22.559109  37.865284  38.071274  27.104570  34.309128   \n",
       " boiler           23.315237  35.301853  48.197922  31.375820  32.693588   \n",
       " freezer          37.986946  38.890797  40.012119  35.251545  35.393085   \n",
       " washing machine  14.740925  10.565572  16.754229  35.046524  18.261990   \n",
       " \n",
       "                       Mean  \n",
       " television        3.414903  \n",
       " kettle           39.048897  \n",
       " boiler           40.045395  \n",
       " freezer          40.041245  \n",
       " washing machine  39.253231  ,\n",
       "                   WindowGRU         RNN         DAE   Seq2Point     Seq2Seq  \\\n",
       " television         0.937231    6.002300    3.515084    1.061536    1.584130   \n",
       " kettle           183.873215  186.056789  186.538357  186.448939  185.246879   \n",
       " boiler            28.724206   36.051350   48.581708   33.067595   34.172732   \n",
       " freezer           45.567389   45.083903   44.287110   47.211232   43.230296   \n",
       " washing machine   78.984933   80.899997   81.438819   81.279277   79.692469   \n",
       " \n",
       "                        Mean  \n",
       " television         3.417052  \n",
       " kettle           186.548639  \n",
       " boiler            40.272014  \n",
       " freezer           44.250930  \n",
       " washing machine   82.553957  ]"
      ]
     },
     "execution_count": 22,
     "metadata": {},
     "output_type": "execute_result"
    }
   ],
   "source": [
    "api_res.errors\n"
   ]
  },
  {
   "cell_type": "code",
   "execution_count": 23,
   "id": "4dd39ee2",
   "metadata": {
    "scrolled": true
   },
   "outputs": [
    {
     "data": {
      "text/plain": [
       "['UK-DALE_4_mae', 'UK-DALE_4_rmse']"
      ]
     },
     "execution_count": 23,
     "metadata": {},
     "output_type": "execute_result"
    }
   ],
   "source": [
    "api_res.errors_keys"
   ]
  },
  {
   "cell_type": "markdown",
   "id": "1d183df8",
   "metadata": {},
   "source": [
    "buildsys2019-paper-notebooks"
   ]
  },
  {
   "cell_type": "code",
   "execution_count": 97,
   "id": "711751f1",
   "metadata": {},
   "outputs": [],
   "source": [
    "import warnings\n",
    "warnings.filterwarnings(\"ignore\")\n",
    "from nilmtk.api import API\n",
    "from nilmtk.disaggregate import Mean\n",
    "from nilmtk_contrib.disaggregate import DSC, AFHMM, AFHMM_SAC"
   ]
  },
  {
   "cell_type": "code",
   "execution_count": 103,
   "id": "a5e1d9e4",
   "metadata": {},
   "outputs": [],
   "source": [
    "test= {\n",
    "  'power': {\n",
    "    'mains': ['apparent','active'],\n",
    "    'appliance': ['apparent','active']\n",
    "  },\n",
    "  'sample_rate': 60,\n",
    "  'appliances': ['television','kettle'],\n",
    "  'artificial_aggregate': True,\n",
    "  'chunksize': 20000,\n",
    "  'DROP_ALL_NANS': True,\n",
    "  'methods': {'Mean':Mean({}),\n",
    "              #'Hart85':Hart85({}),\n",
    "      'WindowGRU':WindowGRU({'n_epochs':1,'batch_size':32}),\n",
    "      'RNN':RNN({'n_epochs':1,'batch_size':32}),\n",
    "      #\"AFHMM\":AFHMM({}),\n",
    "      #\"AFHMM_SAC\":AFHMM_SAC({}),\n",
    "      #\"DSC\":DSC({'learning_rate':1e-11,'iterations':300})\n",
    "\n",
    "  },\n",
    " 'train': {\n",
    "    'datasets': {\n",
    "      'UK-DALE': {\n",
    "        'path': './Dataset/ukdale.h5',\n",
    "        'buildings': {\n",
    "              4: {\n",
    "                'start_time': '2013-04-01 00:00:00',\n",
    "                'end_time': '2013-04-03 00:00:00'\n",
    "              },\n",
    "          \n",
    "        }\n",
    "      },\n",
    "        \n",
    "    }\n",
    "  },\n",
    "    \n",
    "  'test': {\n",
    "    'datasets': {\n",
    "      'UK-DALE': {\n",
    "        'path': './Dataset/ukdale.h5',\n",
    "        'buildings': {\n",
    "         4:{\n",
    "                    'start_time': '2013-06-02 00:00:00 ',\n",
    "                    'end_time': '2013-06-02 12:00:00'\n",
    "          }\n",
    "        }\n",
    "      },\n",
    "    },\n",
    "    'metrics': ['mae']\n",
    "  }\n",
    "}\n",
    "\n",
    "###\n",
    "#The other algortihms doesn't work\n",
    "#Apparently due to coding internal error"
   ]
  },
  {
   "cell_type": "code",
   "execution_count": 104,
   "id": "98a3d487",
   "metadata": {
    "scrolled": true
   },
   "outputs": [
    {
     "name": "stdout",
     "output_type": "stream",
     "text": [
      "Joint Testing for all algorithms\n",
      "Loading data for  UK-DALE  dataset\n",
      "Dropping missing values\n",
      "Creating an Artificial Aggregate\n",
      "Generating predictions for : Mean\n",
      "Generating predictions for : WindowGRU\n",
      "23/23 [==============================] - 2s 47ms/step\n",
      "23/23 [==============================] - 2s 61ms/step\n",
      "Generating predictions for : RNN\n",
      "23/23 [==============================] - 4s 94ms/step\n",
      "23/23 [==============================] - 4s 82ms/step\n",
      "............  mae  ..............\n",
      "                 Mean  WindowGRU        RNN\n",
      "television   3.119806   3.462333   1.344712\n",
      "kettle      39.097782  51.296711  24.594471\n"
     ]
    }
   ],
   "source": [
    "api = API(test)"
   ]
  },
  {
   "cell_type": "code",
   "execution_count": 105,
   "id": "26dbc9a7",
   "metadata": {},
   "outputs": [
    {
     "name": "stdout",
     "output_type": "stream",
     "text": [
      "                 Mean  WindowGRU        RNN\n",
      "television   3.119806   3.462333   1.344712\n",
      "kettle      39.097782  51.296711  24.594471\n",
      "\n",
      "\n"
     ]
    }
   ],
   "source": [
    "for i in api.errors:\n",
    "    print (i)\n",
    "    print ('\\n')"
   ]
  },
  {
   "cell_type": "code",
   "execution_count": 80,
   "id": "e6ef98d5",
   "metadata": {},
   "outputs": [
    {
     "name": "stdout",
     "output_type": "stream",
     "text": [
      "['AFHMM', 'AFHMM_SAC', 'DAE', 'DSC', 'Disaggregator', 'RNN', 'Seq2Point', 'Seq2Seq', 'WindowGRU', '__builtins__', '__cached__', '__doc__', '__file__', '__loader__', '__name__', '__package__', '__path__', '__spec__', 'afhmm', 'afhmm_sac', 'dae', 'dsc', 'rnn', 'seq2point', 'seq2seq']\n"
     ]
    }
   ],
   "source": [
    "#investigating disaggregation methods inside nilmtk-contrib\n",
    "print(dir(nilmtk_contrib.disaggregate))"
   ]
  }
 ],
 "metadata": {
  "kernelspec": {
   "display_name": "Python 3 (ipykernel)",
   "language": "python",
   "name": "python3"
  },
  "language_info": {
   "codemirror_mode": {
    "name": "ipython",
    "version": 3
   },
   "file_extension": ".py",
   "mimetype": "text/x-python",
   "name": "python",
   "nbconvert_exporter": "python",
   "pygments_lexer": "ipython3",
   "version": "3.7.12"
  }
 },
 "nbformat": 4,
 "nbformat_minor": 5
}
